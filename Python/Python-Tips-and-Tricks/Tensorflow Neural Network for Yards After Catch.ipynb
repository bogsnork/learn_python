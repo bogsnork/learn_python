{
 "cells": [
  {
   "cell_type": "markdown",
   "metadata": {},
   "source": [
    "### Notes\n",
    "\n",
    "This script was inspired by an R script written on the https://www.opensourcefootball.com/ website.\n",
    "\n",
    "**Reference:** https://www.opensourcefootball.com/posts/2020-08-19-neural-nets-using-r/\n",
    "\n",
    "\n",
    "The goal is to build a neural network to predict yards after catch for NFL Receivers. There is nothing overly fancy here given that my goal is really just to improve my `python` skills and so I decided to take elements from the `R` neural network in the above line and try and apply it to `python`. As such, this is no where near and exhaustive treatment of neural networks but rather an intro (for me) into coding in `tensorflow` in `python`. In fact, the neural network might not even be the best way to answer this question and at the end I will use linear regression to build a model and predict YAC."
   ]
  },
  {
   "cell_type": "markdown",
   "metadata": {},
   "source": [
    "## Load Libraries"
   ]
  },
  {
   "cell_type": "code",
   "execution_count": 2,
   "metadata": {},
   "outputs": [],
   "source": [
    "import pandas as pd\n",
    "import numpy as np\n",
    "import matplotlib.pyplot as plt\n",
    "import seaborn as sns\n",
    "from sklearn import preprocessing\n",
    "from sklearn.model_selection import train_test_split\n",
    "import tensorflow as tf"
   ]
  },
  {
   "cell_type": "markdown",
   "metadata": {},
   "source": [
    "## Get Data\n",
    "\n",
    "We will get the data from the `nflfastr`github page: https://github.com/guga31bb/nflfastR-data/tree/master/data"
   ]
  },
  {
   "cell_type": "code",
   "execution_count": 3,
   "metadata": {},
   "outputs": [],
   "source": [
    "## set the years we are interested in obtaining\n",
    "years = [2010, 2011, 2012, 2013, 2014, 2015, 2016, 2017, 2018, 2019]"
   ]
  },
  {
   "cell_type": "code",
   "execution_count": 4,
   "metadata": {},
   "outputs": [],
   "source": [
    "## Write a loop to extract the data for those years\n",
    "\n",
    "pbp = pd.DataFrame()\n",
    "\n",
    "for i in years:\n",
    "        nfl_dat = pd.read_csv('https://github.com/guga31bb/nflfastR-data/blob/master/data/' \\\n",
    "                   'play_by_play_' + str(i) + '.csv.gz?raw=true',\n",
    "                  compression = 'gzip',\n",
    "                  low_memory = False)\n",
    "        \n",
    "        pbp = pbp.append(nfl_dat, sort = True)"
   ]
  },
  {
   "cell_type": "code",
   "execution_count": 5,
   "metadata": {},
   "outputs": [
    {
     "data": {
      "text/html": [
       "<div>\n",
       "<style scoped>\n",
       "    .dataframe tbody tr th:only-of-type {\n",
       "        vertical-align: middle;\n",
       "    }\n",
       "\n",
       "    .dataframe tbody tr th {\n",
       "        vertical-align: top;\n",
       "    }\n",
       "\n",
       "    .dataframe thead th {\n",
       "        text-align: right;\n",
       "    }\n",
       "</style>\n",
       "<table border=\"1\" class=\"dataframe\">\n",
       "  <thead>\n",
       "    <tr style=\"text-align: right;\">\n",
       "      <th></th>\n",
       "      <th>aborted_play</th>\n",
       "      <th>air_epa</th>\n",
       "      <th>air_wpa</th>\n",
       "      <th>air_yards</th>\n",
       "      <th>assist_tackle</th>\n",
       "      <th>assist_tackle_1_player_id</th>\n",
       "      <th>assist_tackle_1_player_name</th>\n",
       "      <th>assist_tackle_1_team</th>\n",
       "      <th>assist_tackle_2_player_id</th>\n",
       "      <th>assist_tackle_2_player_name</th>\n",
       "      <th>...</th>\n",
       "      <th>xyac_median_yardage</th>\n",
       "      <th>xyac_success</th>\n",
       "      <th>yac_epa</th>\n",
       "      <th>yac_wpa</th>\n",
       "      <th>yardline_100</th>\n",
       "      <th>yards_after_catch</th>\n",
       "      <th>yards_gained</th>\n",
       "      <th>ydsnet</th>\n",
       "      <th>ydstogo</th>\n",
       "      <th>yrdln</th>\n",
       "    </tr>\n",
       "  </thead>\n",
       "  <tbody>\n",
       "    <tr>\n",
       "      <th>0</th>\n",
       "      <td>0</td>\n",
       "      <td>NaN</td>\n",
       "      <td>NaN</td>\n",
       "      <td>NaN</td>\n",
       "      <td>0.0</td>\n",
       "      <td>NaN</td>\n",
       "      <td>NaN</td>\n",
       "      <td>NaN</td>\n",
       "      <td>NaN</td>\n",
       "      <td>NaN</td>\n",
       "      <td>...</td>\n",
       "      <td>NaN</td>\n",
       "      <td>NaN</td>\n",
       "      <td>NaN</td>\n",
       "      <td>NaN</td>\n",
       "      <td>30.0</td>\n",
       "      <td>NaN</td>\n",
       "      <td>0.0</td>\n",
       "      <td>53.0</td>\n",
       "      <td>0</td>\n",
       "      <td>LA 30</td>\n",
       "    </tr>\n",
       "    <tr>\n",
       "      <th>1</th>\n",
       "      <td>0</td>\n",
       "      <td>-0.564643</td>\n",
       "      <td>-0.005659</td>\n",
       "      <td>0.0</td>\n",
       "      <td>0.0</td>\n",
       "      <td>NaN</td>\n",
       "      <td>NaN</td>\n",
       "      <td>NaN</td>\n",
       "      <td>NaN</td>\n",
       "      <td>NaN</td>\n",
       "      <td>...</td>\n",
       "      <td>6.0</td>\n",
       "      <td>0.690780</td>\n",
       "      <td>0.000000</td>\n",
       "      <td>0.000000</td>\n",
       "      <td>78.0</td>\n",
       "      <td>0.0</td>\n",
       "      <td>0.0</td>\n",
       "      <td>53.0</td>\n",
       "      <td>10</td>\n",
       "      <td>ARI 22</td>\n",
       "    </tr>\n",
       "    <tr>\n",
       "      <th>2</th>\n",
       "      <td>0</td>\n",
       "      <td>NaN</td>\n",
       "      <td>NaN</td>\n",
       "      <td>NaN</td>\n",
       "      <td>0.0</td>\n",
       "      <td>NaN</td>\n",
       "      <td>NaN</td>\n",
       "      <td>NaN</td>\n",
       "      <td>NaN</td>\n",
       "      <td>NaN</td>\n",
       "      <td>...</td>\n",
       "      <td>NaN</td>\n",
       "      <td>NaN</td>\n",
       "      <td>NaN</td>\n",
       "      <td>NaN</td>\n",
       "      <td>78.0</td>\n",
       "      <td>NaN</td>\n",
       "      <td>5.0</td>\n",
       "      <td>53.0</td>\n",
       "      <td>10</td>\n",
       "      <td>ARI 22</td>\n",
       "    </tr>\n",
       "    <tr>\n",
       "      <th>3</th>\n",
       "      <td>0</td>\n",
       "      <td>1.448654</td>\n",
       "      <td>0.033835</td>\n",
       "      <td>7.0</td>\n",
       "      <td>0.0</td>\n",
       "      <td>NaN</td>\n",
       "      <td>NaN</td>\n",
       "      <td>NaN</td>\n",
       "      <td>NaN</td>\n",
       "      <td>NaN</td>\n",
       "      <td>...</td>\n",
       "      <td>1.0</td>\n",
       "      <td>0.998045</td>\n",
       "      <td>0.758916</td>\n",
       "      <td>0.034915</td>\n",
       "      <td>73.0</td>\n",
       "      <td>11.0</td>\n",
       "      <td>18.0</td>\n",
       "      <td>53.0</td>\n",
       "      <td>5</td>\n",
       "      <td>ARI 27</td>\n",
       "    </tr>\n",
       "    <tr>\n",
       "      <th>4</th>\n",
       "      <td>0</td>\n",
       "      <td>-0.471865</td>\n",
       "      <td>-0.017380</td>\n",
       "      <td>0.0</td>\n",
       "      <td>0.0</td>\n",
       "      <td>NaN</td>\n",
       "      <td>NaN</td>\n",
       "      <td>NaN</td>\n",
       "      <td>NaN</td>\n",
       "      <td>NaN</td>\n",
       "      <td>...</td>\n",
       "      <td>6.0</td>\n",
       "      <td>0.692089</td>\n",
       "      <td>1.816268</td>\n",
       "      <td>0.053408</td>\n",
       "      <td>55.0</td>\n",
       "      <td>17.0</td>\n",
       "      <td>17.0</td>\n",
       "      <td>53.0</td>\n",
       "      <td>10</td>\n",
       "      <td>ARI 45</td>\n",
       "    </tr>\n",
       "  </tbody>\n",
       "</table>\n",
       "<p>5 rows × 340 columns</p>\n",
       "</div>"
      ],
      "text/plain": [
       "   aborted_play   air_epa   air_wpa  air_yards  assist_tackle  \\\n",
       "0             0       NaN       NaN        NaN            0.0   \n",
       "1             0 -0.564643 -0.005659        0.0            0.0   \n",
       "2             0       NaN       NaN        NaN            0.0   \n",
       "3             0  1.448654  0.033835        7.0            0.0   \n",
       "4             0 -0.471865 -0.017380        0.0            0.0   \n",
       "\n",
       "  assist_tackle_1_player_id assist_tackle_1_player_name assist_tackle_1_team  \\\n",
       "0                       NaN                         NaN                  NaN   \n",
       "1                       NaN                         NaN                  NaN   \n",
       "2                       NaN                         NaN                  NaN   \n",
       "3                       NaN                         NaN                  NaN   \n",
       "4                       NaN                         NaN                  NaN   \n",
       "\n",
       "  assist_tackle_2_player_id assist_tackle_2_player_name  ...  \\\n",
       "0                       NaN                         NaN  ...   \n",
       "1                       NaN                         NaN  ...   \n",
       "2                       NaN                         NaN  ...   \n",
       "3                       NaN                         NaN  ...   \n",
       "4                       NaN                         NaN  ...   \n",
       "\n",
       "  xyac_median_yardage xyac_success   yac_epa   yac_wpa yardline_100  \\\n",
       "0                 NaN          NaN       NaN       NaN         30.0   \n",
       "1                 6.0     0.690780  0.000000  0.000000         78.0   \n",
       "2                 NaN          NaN       NaN       NaN         78.0   \n",
       "3                 1.0     0.998045  0.758916  0.034915         73.0   \n",
       "4                 6.0     0.692089  1.816268  0.053408         55.0   \n",
       "\n",
       "  yards_after_catch yards_gained ydsnet  ydstogo   yrdln  \n",
       "0               NaN          0.0   53.0        0   LA 30  \n",
       "1               0.0          0.0   53.0       10  ARI 22  \n",
       "2               NaN          5.0   53.0       10  ARI 22  \n",
       "3              11.0         18.0   53.0        5  ARI 27  \n",
       "4              17.0         17.0   53.0       10  ARI 45  \n",
       "\n",
       "[5 rows x 340 columns]"
      ]
     },
     "execution_count": 5,
     "metadata": {},
     "output_type": "execute_result"
    }
   ],
   "source": [
    "## Look at the first few rows\n",
    "\n",
    "pbp.head()"
   ]
  },
  {
   "cell_type": "code",
   "execution_count": 6,
   "metadata": {},
   "outputs": [
    {
     "data": {
      "text/plain": [
       "['aborted_play',\n",
       " 'air_epa',\n",
       " 'air_wpa',\n",
       " 'air_yards',\n",
       " 'assist_tackle',\n",
       " 'assist_tackle_1_player_id',\n",
       " 'assist_tackle_1_player_name',\n",
       " 'assist_tackle_1_team',\n",
       " 'assist_tackle_2_player_id',\n",
       " 'assist_tackle_2_player_name',\n",
       " 'assist_tackle_2_team',\n",
       " 'assist_tackle_3_player_id',\n",
       " 'assist_tackle_3_player_name',\n",
       " 'assist_tackle_3_team',\n",
       " 'assist_tackle_4_player_id',\n",
       " 'assist_tackle_4_player_name',\n",
       " 'assist_tackle_4_team',\n",
       " 'away_coach',\n",
       " 'away_score',\n",
       " 'away_team',\n",
       " 'away_timeouts_remaining',\n",
       " 'away_wp',\n",
       " 'away_wp_post',\n",
       " 'blocked_player_id',\n",
       " 'blocked_player_name',\n",
       " 'comp_air_epa',\n",
       " 'comp_air_wpa',\n",
       " 'comp_yac_epa',\n",
       " 'comp_yac_wpa',\n",
       " 'complete_pass',\n",
       " 'cp',\n",
       " 'cpoe',\n",
       " 'def_wp',\n",
       " 'defensive_extra_point_attempt',\n",
       " 'defensive_extra_point_conv',\n",
       " 'defensive_two_point_attempt',\n",
       " 'defensive_two_point_conv',\n",
       " 'defteam',\n",
       " 'defteam_score',\n",
       " 'defteam_score_post',\n",
       " 'defteam_timeouts_remaining',\n",
       " 'desc',\n",
       " 'div_game',\n",
       " 'down',\n",
       " 'drive',\n",
       " 'drive_end_transition',\n",
       " 'drive_end_yard_line',\n",
       " 'drive_ended_with_score',\n",
       " 'drive_first_downs',\n",
       " 'drive_game_clock_end',\n",
       " 'drive_game_clock_start',\n",
       " 'drive_inside20',\n",
       " 'drive_play_count',\n",
       " 'drive_play_id_ended',\n",
       " 'drive_play_id_started',\n",
       " 'drive_quarter_end',\n",
       " 'drive_quarter_start',\n",
       " 'drive_real_start_time',\n",
       " 'drive_start_transition',\n",
       " 'drive_start_yard_line',\n",
       " 'drive_time_of_possession',\n",
       " 'drive_yards_penalized',\n",
       " 'end_clock_time',\n",
       " 'end_yard_line',\n",
       " 'ep',\n",
       " 'epa',\n",
       " 'extra_point_attempt',\n",
       " 'extra_point_prob',\n",
       " 'extra_point_result',\n",
       " 'fg_prob',\n",
       " 'field_goal_attempt',\n",
       " 'field_goal_result',\n",
       " 'first_down',\n",
       " 'first_down_pass',\n",
       " 'first_down_penalty',\n",
       " 'first_down_rush',\n",
       " 'fixed_drive',\n",
       " 'fixed_drive_result',\n",
       " 'forced_fumble_player_1_player_id',\n",
       " 'forced_fumble_player_1_player_name',\n",
       " 'forced_fumble_player_1_team',\n",
       " 'forced_fumble_player_2_player_id',\n",
       " 'forced_fumble_player_2_player_name',\n",
       " 'forced_fumble_player_2_team',\n",
       " 'fourth_down_converted',\n",
       " 'fourth_down_failed',\n",
       " 'fumble',\n",
       " 'fumble_forced',\n",
       " 'fumble_lost',\n",
       " 'fumble_not_forced',\n",
       " 'fumble_out_of_bounds',\n",
       " 'fumble_recovery_1_player_id',\n",
       " 'fumble_recovery_1_player_name',\n",
       " 'fumble_recovery_1_team',\n",
       " 'fumble_recovery_1_yards',\n",
       " 'fumble_recovery_2_player_id',\n",
       " 'fumble_recovery_2_player_name',\n",
       " 'fumble_recovery_2_team',\n",
       " 'fumble_recovery_2_yards',\n",
       " 'fumbled_1_player_id',\n",
       " 'fumbled_1_player_name',\n",
       " 'fumbled_1_team',\n",
       " 'fumbled_2_player_id',\n",
       " 'fumbled_2_player_name',\n",
       " 'fumbled_2_team',\n",
       " 'game_date',\n",
       " 'game_half',\n",
       " 'game_id',\n",
       " 'game_seconds_remaining',\n",
       " 'game_stadium',\n",
       " 'goal_to_go',\n",
       " 'half_seconds_remaining',\n",
       " 'home_coach',\n",
       " 'home_score',\n",
       " 'home_team',\n",
       " 'home_timeouts_remaining',\n",
       " 'home_wp',\n",
       " 'home_wp_post',\n",
       " 'id',\n",
       " 'incomplete_pass',\n",
       " 'interception',\n",
       " 'interception_player_id',\n",
       " 'interception_player_name',\n",
       " 'jersey_number',\n",
       " 'kick_distance',\n",
       " 'kicker_player_id',\n",
       " 'kicker_player_name',\n",
       " 'kickoff_attempt',\n",
       " 'kickoff_downed',\n",
       " 'kickoff_fair_catch',\n",
       " 'kickoff_in_endzone',\n",
       " 'kickoff_inside_twenty',\n",
       " 'kickoff_out_of_bounds',\n",
       " 'kickoff_returner_player_id',\n",
       " 'kickoff_returner_player_name',\n",
       " 'lateral_interception_player_id',\n",
       " 'lateral_interception_player_name',\n",
       " 'lateral_kickoff_returner_player_id',\n",
       " 'lateral_kickoff_returner_player_name',\n",
       " 'lateral_punt_returner_player_id',\n",
       " 'lateral_punt_returner_player_name',\n",
       " 'lateral_receiver_player_id',\n",
       " 'lateral_receiver_player_name',\n",
       " 'lateral_reception',\n",
       " 'lateral_recovery',\n",
       " 'lateral_return',\n",
       " 'lateral_rush',\n",
       " 'lateral_rusher_player_id',\n",
       " 'lateral_rusher_player_name',\n",
       " 'lateral_sack_player_id',\n",
       " 'lateral_sack_player_name',\n",
       " 'location',\n",
       " 'name',\n",
       " 'nfl_api_id',\n",
       " 'no_huddle',\n",
       " 'no_score_prob',\n",
       " 'old_game_id',\n",
       " 'opp_fg_prob',\n",
       " 'opp_safety_prob',\n",
       " 'opp_td_prob',\n",
       " 'order_sequence',\n",
       " 'own_kickoff_recovery',\n",
       " 'own_kickoff_recovery_player_id',\n",
       " 'own_kickoff_recovery_player_name',\n",
       " 'own_kickoff_recovery_td',\n",
       " 'pass',\n",
       " 'pass_attempt',\n",
       " 'pass_defense_1_player_id',\n",
       " 'pass_defense_1_player_name',\n",
       " 'pass_defense_2_player_id',\n",
       " 'pass_defense_2_player_name',\n",
       " 'pass_length',\n",
       " 'pass_location',\n",
       " 'pass_touchdown',\n",
       " 'passer',\n",
       " 'passer_id',\n",
       " 'passer_jersey_number',\n",
       " 'passer_player_id',\n",
       " 'passer_player_name',\n",
       " 'penalty',\n",
       " 'penalty_player_id',\n",
       " 'penalty_player_name',\n",
       " 'penalty_team',\n",
       " 'penalty_type',\n",
       " 'penalty_yards',\n",
       " 'play',\n",
       " 'play_clock',\n",
       " 'play_deleted',\n",
       " 'play_id',\n",
       " 'play_type',\n",
       " 'play_type_nfl',\n",
       " 'posteam',\n",
       " 'posteam_score',\n",
       " 'posteam_score_post',\n",
       " 'posteam_timeouts_remaining',\n",
       " 'posteam_type',\n",
       " 'punt_attempt',\n",
       " 'punt_blocked',\n",
       " 'punt_downed',\n",
       " 'punt_fair_catch',\n",
       " 'punt_in_endzone',\n",
       " 'punt_inside_twenty',\n",
       " 'punt_out_of_bounds',\n",
       " 'punt_returner_player_id',\n",
       " 'punt_returner_player_name',\n",
       " 'punter_player_id',\n",
       " 'punter_player_name',\n",
       " 'qb_dropback',\n",
       " 'qb_epa',\n",
       " 'qb_hit',\n",
       " 'qb_hit_1_player_id',\n",
       " 'qb_hit_1_player_name',\n",
       " 'qb_hit_2_player_id',\n",
       " 'qb_hit_2_player_name',\n",
       " 'qb_kneel',\n",
       " 'qb_scramble',\n",
       " 'qb_spike',\n",
       " 'qtr',\n",
       " 'quarter_end',\n",
       " 'quarter_seconds_remaining',\n",
       " 'receiver',\n",
       " 'receiver_id',\n",
       " 'receiver_jersey_number',\n",
       " 'receiver_player_id',\n",
       " 'receiver_player_name',\n",
       " 'replay_or_challenge',\n",
       " 'replay_or_challenge_result',\n",
       " 'result',\n",
       " 'return_team',\n",
       " 'return_touchdown',\n",
       " 'return_yards',\n",
       " 'roof',\n",
       " 'run_gap',\n",
       " 'run_location',\n",
       " 'rush',\n",
       " 'rush_attempt',\n",
       " 'rush_touchdown',\n",
       " 'rusher',\n",
       " 'rusher_id',\n",
       " 'rusher_jersey_number',\n",
       " 'rusher_player_id',\n",
       " 'rusher_player_name',\n",
       " 'sack',\n",
       " 'safety',\n",
       " 'safety_prob',\n",
       " 'score_differential',\n",
       " 'score_differential_post',\n",
       " 'season',\n",
       " 'season_type',\n",
       " 'series',\n",
       " 'series_result',\n",
       " 'series_success',\n",
       " 'shotgun',\n",
       " 'side_of_field',\n",
       " 'solo_tackle',\n",
       " 'solo_tackle_1_player_id',\n",
       " 'solo_tackle_1_player_name',\n",
       " 'solo_tackle_1_team',\n",
       " 'solo_tackle_2_player_id',\n",
       " 'solo_tackle_2_player_name',\n",
       " 'solo_tackle_2_team',\n",
       " 'sp',\n",
       " 'special',\n",
       " 'special_teams_play',\n",
       " 'spread_line',\n",
       " 'st_play_type',\n",
       " 'stadium',\n",
       " 'stadium_id',\n",
       " 'start_time',\n",
       " 'success',\n",
       " 'surface',\n",
       " 'tackle_for_loss_1_player_id',\n",
       " 'tackle_for_loss_1_player_name',\n",
       " 'tackle_for_loss_2_player_id',\n",
       " 'tackle_for_loss_2_player_name',\n",
       " 'tackled_for_loss',\n",
       " 'td_prob',\n",
       " 'td_team',\n",
       " 'temp',\n",
       " 'third_down_converted',\n",
       " 'third_down_failed',\n",
       " 'time',\n",
       " 'time_of_day',\n",
       " 'timeout',\n",
       " 'timeout_team',\n",
       " 'total',\n",
       " 'total_away_comp_air_epa',\n",
       " 'total_away_comp_air_wpa',\n",
       " 'total_away_comp_yac_epa',\n",
       " 'total_away_comp_yac_wpa',\n",
       " 'total_away_epa',\n",
       " 'total_away_pass_epa',\n",
       " 'total_away_pass_wpa',\n",
       " 'total_away_raw_air_epa',\n",
       " 'total_away_raw_air_wpa',\n",
       " 'total_away_raw_yac_epa',\n",
       " 'total_away_raw_yac_wpa',\n",
       " 'total_away_rush_epa',\n",
       " 'total_away_rush_wpa',\n",
       " 'total_away_score',\n",
       " 'total_home_comp_air_epa',\n",
       " 'total_home_comp_air_wpa',\n",
       " 'total_home_comp_yac_epa',\n",
       " 'total_home_comp_yac_wpa',\n",
       " 'total_home_epa',\n",
       " 'total_home_pass_epa',\n",
       " 'total_home_pass_wpa',\n",
       " 'total_home_raw_air_epa',\n",
       " 'total_home_raw_air_wpa',\n",
       " 'total_home_raw_yac_epa',\n",
       " 'total_home_raw_yac_wpa',\n",
       " 'total_home_rush_epa',\n",
       " 'total_home_rush_wpa',\n",
       " 'total_home_score',\n",
       " 'total_line',\n",
       " 'touchback',\n",
       " 'touchdown',\n",
       " 'two_point_attempt',\n",
       " 'two_point_conv_result',\n",
       " 'two_point_conversion_prob',\n",
       " 'vegas_home_wp',\n",
       " 'vegas_wp',\n",
       " 'weather',\n",
       " 'week',\n",
       " 'wind',\n",
       " 'wp',\n",
       " 'wpa',\n",
       " 'xyac_epa',\n",
       " 'xyac_fd',\n",
       " 'xyac_mean_yardage',\n",
       " 'xyac_median_yardage',\n",
       " 'xyac_success',\n",
       " 'yac_epa',\n",
       " 'yac_wpa',\n",
       " 'yardline_100',\n",
       " 'yards_after_catch',\n",
       " 'yards_gained',\n",
       " 'ydsnet',\n",
       " 'ydstogo',\n",
       " 'yrdln']"
      ]
     },
     "execution_count": 6,
     "metadata": {},
     "output_type": "execute_result"
    }
   ],
   "source": [
    "## Look at the column names\n",
    "\n",
    "list(pbp.columns)"
   ]
  },
  {
   "cell_type": "markdown",
   "metadata": {},
   "source": [
    "## Extract Passing Plays"
   ]
  },
  {
   "cell_type": "code",
   "execution_count": 7,
   "metadata": {},
   "outputs": [
    {
     "data": {
      "text/plain": [
       "array([0, 1])"
      ]
     },
     "execution_count": 7,
     "metadata": {},
     "output_type": "execute_result"
    }
   ],
   "source": [
    "## What are the values in the 'pass' column?\n",
    "\n",
    "pbp['pass'].unique()"
   ]
  },
  {
   "cell_type": "markdown",
   "metadata": {},
   "source": [
    "The values are binary with a 0 being \"no pass\" and a 1 being a \"pass\". Let's get all players where pass == 1"
   ]
  },
  {
   "cell_type": "code",
   "execution_count": 30,
   "metadata": {},
   "outputs": [],
   "source": [
    "df = pbp[pbp['pass']== 1] "
   ]
  },
  {
   "cell_type": "markdown",
   "metadata": {},
   "source": [
    "## Data Pre-Processing"
   ]
  },
  {
   "cell_type": "markdown",
   "metadata": {},
   "source": [
    "Make the pass location binary by specifying a \"1\" every time the pass is in the middle of the field or a \"0\" otherwise.\n",
    "\n",
    "For this, I'll use the `where()` function from the `numpy` package, which seems to behave like `case_when()` in `R`."
   ]
  },
  {
   "cell_type": "code",
   "execution_count": 31,
   "metadata": {},
   "outputs": [
    {
     "name": "stderr",
     "output_type": "stream",
     "text": [
      "/anaconda3/envs/py3-TF2.0/lib/python3.7/site-packages/ipykernel_launcher.py:1: SettingWithCopyWarning: \n",
      "A value is trying to be set on a copy of a slice from a DataFrame.\n",
      "Try using .loc[row_indexer,col_indexer] = value instead\n",
      "\n",
      "See the caveats in the documentation: https://pandas.pydata.org/pandas-docs/stable/user_guide/indexing.html#returning-a-view-versus-a-copy\n",
      "  \"\"\"Entry point for launching an IPython kernel.\n"
     ]
    }
   ],
   "source": [
    "df['pass_location'] = np.where(df.pass_location == 'middle', 1, 0)"
   ]
  },
  {
   "cell_type": "markdown",
   "metadata": {},
   "source": [
    "The `roof` column tells us about what type of stadium the game is being played in."
   ]
  },
  {
   "cell_type": "code",
   "execution_count": 32,
   "metadata": {},
   "outputs": [
    {
     "data": {
      "text/plain": [
       "array(['dome', 'outdoors', 'closed', 'open'], dtype=object)"
      ]
     },
     "execution_count": 32,
     "metadata": {},
     "output_type": "execute_result"
    }
   ],
   "source": [
    "df['roof'].unique()"
   ]
  },
  {
   "cell_type": "markdown",
   "metadata": {},
   "source": [
    "The variable is of `dtype = object`. In the `R` script they change this column to a factor and in `python` I believe the equivalent is a `categorical`. So we will change the data type to `categorical`."
   ]
  },
  {
   "cell_type": "code",
   "execution_count": 33,
   "metadata": {},
   "outputs": [
    {
     "name": "stderr",
     "output_type": "stream",
     "text": [
      "/anaconda3/envs/py3-TF2.0/lib/python3.7/site-packages/ipykernel_launcher.py:1: SettingWithCopyWarning: \n",
      "A value is trying to be set on a copy of a slice from a DataFrame.\n",
      "Try using .loc[row_indexer,col_indexer] = value instead\n",
      "\n",
      "See the caveats in the documentation: https://pandas.pydata.org/pandas-docs/stable/user_guide/indexing.html#returning-a-view-versus-a-copy\n",
      "  \"\"\"Entry point for launching an IPython kernel.\n"
     ]
    },
    {
     "data": {
      "text/plain": [
       "[dome, outdoors, closed, open]\n",
       "Categories (4, object): [dome, outdoors, closed, open]"
      ]
     },
     "execution_count": 33,
     "metadata": {},
     "output_type": "execute_result"
    }
   ],
   "source": [
    "df['roof'] = df['roof'].astype('category')\n",
    "df['roof'].unique()"
   ]
  },
  {
   "cell_type": "markdown",
   "metadata": {},
   "source": [
    "Finally, we will constrain the analysis to only a few key columns that we believe will influence YAC (the same columns from the above line). We will then drop NA values from the data set and reset the indexes. We will then dummy code the categorical variable, `roof`."
   ]
  },
  {
   "cell_type": "code",
   "execution_count": 34,
   "metadata": {},
   "outputs": [],
   "source": [
    "df = df[['yardline_100', 'down', 'ydstogo', 'shotgun', 'air_yards', 'yards_after_catch', 'qb_hit', 'pass_location', 'roof']]\n",
    "df.dropna(inplace = True)\n",
    "df.reset_index(drop = True, inplace = True)\n",
    "df = pd.get_dummies(df, columns = ['roof'])"
   ]
  },
  {
   "cell_type": "code",
   "execution_count": 35,
   "metadata": {},
   "outputs": [
    {
     "data": {
      "text/html": [
       "<div>\n",
       "<style scoped>\n",
       "    .dataframe tbody tr th:only-of-type {\n",
       "        vertical-align: middle;\n",
       "    }\n",
       "\n",
       "    .dataframe tbody tr th {\n",
       "        vertical-align: top;\n",
       "    }\n",
       "\n",
       "    .dataframe thead th {\n",
       "        text-align: right;\n",
       "    }\n",
       "</style>\n",
       "<table border=\"1\" class=\"dataframe\">\n",
       "  <thead>\n",
       "    <tr style=\"text-align: right;\">\n",
       "      <th></th>\n",
       "      <th>yardline_100</th>\n",
       "      <th>down</th>\n",
       "      <th>ydstogo</th>\n",
       "      <th>shotgun</th>\n",
       "      <th>air_yards</th>\n",
       "      <th>yards_after_catch</th>\n",
       "      <th>qb_hit</th>\n",
       "      <th>pass_location</th>\n",
       "      <th>roof_closed</th>\n",
       "      <th>roof_dome</th>\n",
       "      <th>roof_open</th>\n",
       "      <th>roof_outdoors</th>\n",
       "    </tr>\n",
       "  </thead>\n",
       "  <tbody>\n",
       "    <tr>\n",
       "      <th>0</th>\n",
       "      <td>78.0</td>\n",
       "      <td>1.0</td>\n",
       "      <td>10</td>\n",
       "      <td>0</td>\n",
       "      <td>0.0</td>\n",
       "      <td>0.0</td>\n",
       "      <td>0.0</td>\n",
       "      <td>0</td>\n",
       "      <td>0</td>\n",
       "      <td>1</td>\n",
       "      <td>0</td>\n",
       "      <td>0</td>\n",
       "    </tr>\n",
       "    <tr>\n",
       "      <th>1</th>\n",
       "      <td>73.0</td>\n",
       "      <td>3.0</td>\n",
       "      <td>5</td>\n",
       "      <td>1</td>\n",
       "      <td>7.0</td>\n",
       "      <td>11.0</td>\n",
       "      <td>0.0</td>\n",
       "      <td>0</td>\n",
       "      <td>0</td>\n",
       "      <td>1</td>\n",
       "      <td>0</td>\n",
       "      <td>0</td>\n",
       "    </tr>\n",
       "    <tr>\n",
       "      <th>2</th>\n",
       "      <td>55.0</td>\n",
       "      <td>1.0</td>\n",
       "      <td>10</td>\n",
       "      <td>1</td>\n",
       "      <td>0.0</td>\n",
       "      <td>17.0</td>\n",
       "      <td>0.0</td>\n",
       "      <td>0</td>\n",
       "      <td>0</td>\n",
       "      <td>1</td>\n",
       "      <td>0</td>\n",
       "      <td>0</td>\n",
       "    </tr>\n",
       "    <tr>\n",
       "      <th>3</th>\n",
       "      <td>36.0</td>\n",
       "      <td>2.0</td>\n",
       "      <td>8</td>\n",
       "      <td>1</td>\n",
       "      <td>12.0</td>\n",
       "      <td>0.0</td>\n",
       "      <td>0.0</td>\n",
       "      <td>0</td>\n",
       "      <td>0</td>\n",
       "      <td>1</td>\n",
       "      <td>0</td>\n",
       "      <td>0</td>\n",
       "    </tr>\n",
       "    <tr>\n",
       "      <th>4</th>\n",
       "      <td>32.0</td>\n",
       "      <td>1.0</td>\n",
       "      <td>10</td>\n",
       "      <td>0</td>\n",
       "      <td>13.0</td>\n",
       "      <td>0.0</td>\n",
       "      <td>0.0</td>\n",
       "      <td>0</td>\n",
       "      <td>0</td>\n",
       "      <td>1</td>\n",
       "      <td>0</td>\n",
       "      <td>0</td>\n",
       "    </tr>\n",
       "  </tbody>\n",
       "</table>\n",
       "</div>"
      ],
      "text/plain": [
       "   yardline_100  down  ydstogo  shotgun  air_yards  yards_after_catch  qb_hit  \\\n",
       "0          78.0   1.0       10        0        0.0                0.0     0.0   \n",
       "1          73.0   3.0        5        1        7.0               11.0     0.0   \n",
       "2          55.0   1.0       10        1        0.0               17.0     0.0   \n",
       "3          36.0   2.0        8        1       12.0                0.0     0.0   \n",
       "4          32.0   1.0       10        0       13.0                0.0     0.0   \n",
       "\n",
       "   pass_location  roof_closed  roof_dome  roof_open  roof_outdoors  \n",
       "0              0            0          1          0              0  \n",
       "1              0            0          1          0              0  \n",
       "2              0            0          1          0              0  \n",
       "3              0            0          1          0              0  \n",
       "4              0            0          1          0              0  "
      ]
     },
     "execution_count": 35,
     "metadata": {},
     "output_type": "execute_result"
    }
   ],
   "source": [
    "## Look at the new data set\n",
    "\n",
    "df.head()"
   ]
  },
  {
   "cell_type": "markdown",
   "metadata": {},
   "source": [
    "How much data are we dealing with?"
   ]
  },
  {
   "cell_type": "code",
   "execution_count": 36,
   "metadata": {},
   "outputs": [
    {
     "data": {
      "text/plain": [
       "(115605, 12)"
      ]
     },
     "execution_count": 36,
     "metadata": {},
     "output_type": "execute_result"
    }
   ],
   "source": [
    "df.shape"
   ]
  },
  {
   "cell_type": "markdown",
   "metadata": {},
   "source": [
    "115,605 rows and 12 columns"
   ]
  },
  {
   "cell_type": "markdown",
   "metadata": {},
   "source": [
    "## Train/Test Split"
   ]
  },
  {
   "cell_type": "markdown",
   "metadata": {},
   "source": [
    "Select the predictor variables, `X`, by dropping the target variable, `yards_after_catch`. Also, pre-process the `X` variables by scaling them to have a mean of 0 and variance of 1."
   ]
  },
  {
   "cell_type": "code",
   "execution_count": 39,
   "metadata": {},
   "outputs": [],
   "source": [
    "X = df.drop('yards_after_catch', axis = 1)\n",
    "X = preprocessing.scale(X)\n",
    "y = df['yards_after_catch']"
   ]
  },
  {
   "cell_type": "markdown",
   "metadata": {},
   "source": [
    "Create a train/test split with the training set representing 90% of the data and the test set the remaining 10%."
   ]
  },
  {
   "cell_type": "code",
   "execution_count": 40,
   "metadata": {},
   "outputs": [],
   "source": [
    "sample_count = int(df.shape[0] * 0.9)\n",
    "\n",
    "X_train, X_test, y_train, y_test = train_test_split(X, y, test_size = sample_count, random_state=2378)"
   ]
  },
  {
   "cell_type": "markdown",
   "metadata": {},
   "source": [
    "## Save Data in .npz format\n",
    "\n",
    "This will be a two-tuple format of inputs and targets, which we will use in `tensorflow`.\n",
    "\n",
    "**NOTE:** The data will be saved in this file format to your working directory."
   ]
  },
  {
   "cell_type": "code",
   "execution_count": null,
   "metadata": {},
   "outputs": [],
   "source": [
    "np.savez('yac_train', inputs = X_train, targets = y_train)\n",
    "np.savez('yac_test', inputs = X_test, targets = y_test)"
   ]
  },
  {
   "cell_type": "markdown",
   "metadata": {},
   "source": [
    "## Load the .npz files"
   ]
  },
  {
   "cell_type": "code",
   "execution_count": 41,
   "metadata": {},
   "outputs": [],
   "source": [
    "train_npz = np.load('yac_train.npz')\n",
    "train_inputs = train_npz['inputs'].astype(np.float)\n",
    "train_targets = train_npz['targets'].astype(np.int)\n",
    "\n",
    "test_npz = np.load('yac_test.npz')\n",
    "test_inputs = test_npz['inputs'].astype(np.float)\n",
    "test_targets = test_npz['targets'].astype(np.int)"
   ]
  },
  {
   "cell_type": "markdown",
   "metadata": {},
   "source": [
    "## Create Neural Netowrk"
   ]
  },
  {
   "cell_type": "markdown",
   "metadata": {},
   "source": [
    "#####  Model input information\n",
    "1) State the number of predictors (in this case 11)\n",
    "\n",
    "2) State the number of outputs (in this case 1)\n",
    "\n",
    "3) Set the width of the hidden layers by specifying the number of units/nodes in each hidden layer (in this case I use 10)\n"
   ]
  },
  {
   "cell_type": "code",
   "execution_count": 43,
   "metadata": {},
   "outputs": [],
   "source": [
    "n_predictors = 11\n",
    "n_outputs = 1\n",
    "hidden_layer_size = 10"
   ]
  },
  {
   "cell_type": "markdown",
   "metadata": {},
   "source": [
    "##### Create the model\n",
    "\n",
    "* I'm going to specificy 4 hidden layers (each with a size of 10, as indicated above)\n",
    "* The optimizer I'll use is stochastic gradient descent\n",
    "* I'll use mean squared error as my loss function and the metrics I want to evaluate my model on are mean squared error and mean absolute error"
   ]
  },
  {
   "cell_type": "code",
   "execution_count": 44,
   "metadata": {},
   "outputs": [],
   "source": [
    "model = tf.keras.Sequential([  \n",
    "    tf.keras.layers.Dense(hidden_layer_size, activation = 'relu'),\n",
    "    tf.keras.layers.Dense(hidden_layer_size, activation = 'relu'),\n",
    "    tf.keras.layers.Dense(hidden_layer_size, activation = 'relu'),\n",
    "    tf.keras.layers.Dense(hidden_layer_size, activation = 'relu'),\n",
    "    tf.keras.layers.Dense(n_outputs)       \n",
    "])\n",
    "\n",
    "\n",
    "model.compile(optimizer='sgd', loss='mean_squared_error', metrics = ['mae', 'mse'])"
   ]
  },
  {
   "cell_type": "markdown",
   "metadata": {},
   "source": [
    "##### Specify the hyperparameters for batch size and epoch\n",
    "\n",
    "* Batch size will indicate the number of training samples used in a single iteration\n",
    "* Epoch will indicate the number of times the model will go through the training data set"
   ]
  },
  {
   "cell_type": "code",
   "execution_count": 47,
   "metadata": {},
   "outputs": [],
   "source": [
    "batch_size = 100\n",
    "max_epochs = 100"
   ]
  },
  {
   "cell_type": "markdown",
   "metadata": {},
   "source": [
    "##### Run the model"
   ]
  },
  {
   "cell_type": "code",
   "execution_count": 53,
   "metadata": {},
   "outputs": [
    {
     "name": "stdout",
     "output_type": "stream",
     "text": [
      "Epoch 1/100\n",
      "116/116 - 0s - loss: 41.5853 - mae: 4.0385 - mse: 41.5853\n",
      "Epoch 2/100\n",
      "116/116 - 0s - loss: 41.9163 - mae: 4.0677 - mse: 41.9163\n",
      "Epoch 3/100\n",
      "116/116 - 0s - loss: 41.6176 - mae: 4.0381 - mse: 41.6176\n",
      "Epoch 4/100\n",
      "116/116 - 0s - loss: 41.4838 - mae: 4.0392 - mse: 41.4838\n",
      "Epoch 5/100\n",
      "116/116 - 0s - loss: 41.5506 - mae: 4.0418 - mse: 41.5506\n",
      "Epoch 6/100\n",
      "116/116 - 0s - loss: 41.6051 - mae: 4.0532 - mse: 41.6051\n",
      "Epoch 7/100\n",
      "116/116 - 0s - loss: 41.6677 - mae: 4.0523 - mse: 41.6677\n",
      "Epoch 8/100\n",
      "116/116 - 0s - loss: 41.4794 - mae: 4.0370 - mse: 41.4794\n",
      "Epoch 9/100\n",
      "116/116 - 0s - loss: 41.5663 - mae: 4.0467 - mse: 41.5663\n",
      "Epoch 10/100\n",
      "116/116 - 0s - loss: 41.4974 - mae: 4.0433 - mse: 41.4974\n",
      "Epoch 11/100\n",
      "116/116 - 0s - loss: 41.5922 - mae: 4.0515 - mse: 41.5922\n",
      "Epoch 12/100\n",
      "116/116 - 0s - loss: 41.6230 - mae: 4.0511 - mse: 41.6230\n",
      "Epoch 13/100\n",
      "116/116 - 0s - loss: 41.5722 - mae: 4.0434 - mse: 41.5722\n",
      "Epoch 14/100\n",
      "116/116 - 0s - loss: 41.4559 - mae: 4.0342 - mse: 41.4559\n",
      "Epoch 15/100\n",
      "116/116 - 0s - loss: 41.4992 - mae: 4.0503 - mse: 41.4992\n",
      "Epoch 16/100\n",
      "116/116 - 0s - loss: 41.5531 - mae: 4.0603 - mse: 41.5531\n",
      "Epoch 17/100\n",
      "116/116 - 0s - loss: 41.5513 - mae: 4.0516 - mse: 41.5513\n",
      "Epoch 18/100\n",
      "116/116 - 0s - loss: 41.6269 - mae: 4.0497 - mse: 41.6269\n",
      "Epoch 19/100\n",
      "116/116 - 0s - loss: 41.2784 - mae: 4.0428 - mse: 41.2784\n",
      "Epoch 20/100\n",
      "116/116 - 0s - loss: 41.7602 - mae: 4.0474 - mse: 41.7602\n",
      "Epoch 21/100\n",
      "116/116 - 0s - loss: 41.4768 - mae: 4.0486 - mse: 41.4768\n",
      "Epoch 22/100\n",
      "116/116 - 0s - loss: 41.5081 - mae: 4.0516 - mse: 41.5081\n",
      "Epoch 23/100\n",
      "116/116 - 0s - loss: 41.5040 - mae: 4.0316 - mse: 41.5040\n",
      "Epoch 24/100\n",
      "116/116 - 0s - loss: 41.3159 - mae: 4.0294 - mse: 41.3159\n",
      "Epoch 25/100\n",
      "116/116 - 0s - loss: 41.6381 - mae: 4.0465 - mse: 41.6381\n",
      "Epoch 26/100\n",
      "116/116 - 0s - loss: 41.5096 - mae: 4.0486 - mse: 41.5096\n",
      "Epoch 27/100\n",
      "116/116 - 0s - loss: 41.2961 - mae: 4.0252 - mse: 41.2961\n",
      "Epoch 28/100\n",
      "116/116 - 0s - loss: 41.5981 - mae: 4.0444 - mse: 41.5981\n",
      "Epoch 29/100\n",
      "116/116 - 0s - loss: 41.4773 - mae: 4.0344 - mse: 41.4773\n",
      "Epoch 30/100\n",
      "116/116 - 0s - loss: 41.4033 - mae: 4.0407 - mse: 41.4033\n",
      "Epoch 31/100\n",
      "116/116 - 0s - loss: 41.3878 - mae: 4.0552 - mse: 41.3878\n",
      "Epoch 32/100\n",
      "116/116 - 0s - loss: 41.4336 - mae: 4.0392 - mse: 41.4336\n",
      "Epoch 33/100\n",
      "116/116 - 0s - loss: 41.4247 - mae: 4.0302 - mse: 41.4247\n",
      "Epoch 34/100\n",
      "116/116 - 0s - loss: 41.3417 - mae: 4.0342 - mse: 41.3417\n",
      "Epoch 35/100\n",
      "116/116 - 0s - loss: 41.5442 - mae: 4.0421 - mse: 41.5442\n",
      "Epoch 36/100\n",
      "116/116 - 0s - loss: 41.3597 - mae: 4.0462 - mse: 41.3597\n",
      "Epoch 37/100\n",
      "116/116 - 0s - loss: 41.5896 - mae: 4.0537 - mse: 41.5896\n",
      "Epoch 38/100\n",
      "116/116 - 0s - loss: 41.3461 - mae: 4.0355 - mse: 41.3461\n",
      "Epoch 39/100\n",
      "116/116 - 0s - loss: 41.4600 - mae: 4.0479 - mse: 41.4600\n",
      "Epoch 40/100\n",
      "116/116 - 0s - loss: 41.3987 - mae: 4.0412 - mse: 41.3987\n",
      "Epoch 41/100\n",
      "116/116 - 0s - loss: 41.4780 - mae: 4.0440 - mse: 41.4780\n",
      "Epoch 42/100\n",
      "116/116 - 0s - loss: 41.3917 - mae: 4.0436 - mse: 41.3917\n",
      "Epoch 43/100\n",
      "116/116 - 0s - loss: 41.3637 - mae: 4.0346 - mse: 41.3637\n",
      "Epoch 44/100\n",
      "116/116 - 0s - loss: 41.6891 - mae: 4.0538 - mse: 41.6891\n",
      "Epoch 45/100\n",
      "116/116 - 0s - loss: 41.5190 - mae: 4.0414 - mse: 41.5190\n",
      "Epoch 46/100\n",
      "116/116 - 0s - loss: 41.3537 - mae: 4.0379 - mse: 41.3537\n",
      "Epoch 47/100\n",
      "116/116 - 0s - loss: 41.5754 - mae: 4.0635 - mse: 41.5754\n",
      "Epoch 48/100\n",
      "116/116 - 0s - loss: 41.4986 - mae: 4.0549 - mse: 41.4986\n",
      "Epoch 49/100\n",
      "116/116 - 0s - loss: 41.3092 - mae: 4.0316 - mse: 41.3092\n",
      "Epoch 50/100\n",
      "116/116 - 0s - loss: 41.6039 - mae: 4.0504 - mse: 41.6039\n",
      "Epoch 51/100\n",
      "116/116 - 0s - loss: 41.3890 - mae: 4.0437 - mse: 41.3890\n",
      "Epoch 52/100\n",
      "116/116 - 0s - loss: 41.7307 - mae: 4.0589 - mse: 41.7307\n",
      "Epoch 53/100\n",
      "116/116 - 0s - loss: 41.4416 - mae: 4.0482 - mse: 41.4416\n",
      "Epoch 54/100\n",
      "116/116 - 0s - loss: 41.5006 - mae: 4.0447 - mse: 41.5006\n",
      "Epoch 55/100\n",
      "116/116 - 0s - loss: 41.3139 - mae: 4.0474 - mse: 41.3139\n",
      "Epoch 56/100\n",
      "116/116 - 0s - loss: 41.6071 - mae: 4.0537 - mse: 41.6071\n",
      "Epoch 57/100\n",
      "116/116 - 0s - loss: 41.3188 - mae: 4.0319 - mse: 41.3188\n",
      "Epoch 58/100\n",
      "116/116 - 0s - loss: 41.0929 - mae: 4.0405 - mse: 41.0929\n",
      "Epoch 59/100\n",
      "116/116 - 0s - loss: 41.7017 - mae: 4.0628 - mse: 41.7017\n",
      "Epoch 60/100\n",
      "116/116 - 0s - loss: 41.4671 - mae: 4.0361 - mse: 41.4671\n",
      "Epoch 61/100\n",
      "116/116 - 0s - loss: 41.4314 - mae: 4.0504 - mse: 41.4314\n",
      "Epoch 62/100\n",
      "116/116 - 0s - loss: 41.3674 - mae: 4.0363 - mse: 41.3674\n",
      "Epoch 63/100\n",
      "116/116 - 0s - loss: 41.6109 - mae: 4.0498 - mse: 41.6109\n",
      "Epoch 64/100\n",
      "116/116 - 0s - loss: 41.6349 - mae: 4.0577 - mse: 41.6349\n",
      "Epoch 65/100\n",
      "116/116 - 0s - loss: 41.4153 - mae: 4.0383 - mse: 41.4153\n",
      "Epoch 66/100\n",
      "116/116 - 0s - loss: 41.2213 - mae: 4.0393 - mse: 41.2213\n",
      "Epoch 67/100\n",
      "116/116 - 0s - loss: 41.4381 - mae: 4.0555 - mse: 41.4381\n",
      "Epoch 68/100\n",
      "116/116 - 0s - loss: 41.2278 - mae: 4.0347 - mse: 41.2278\n",
      "Epoch 69/100\n",
      "116/116 - 0s - loss: 41.3776 - mae: 4.0497 - mse: 41.3776\n",
      "Epoch 70/100\n",
      "116/116 - 0s - loss: 41.2303 - mae: 4.0248 - mse: 41.2303\n",
      "Epoch 71/100\n",
      "116/116 - 0s - loss: 41.2976 - mae: 4.0419 - mse: 41.2976\n",
      "Epoch 72/100\n",
      "116/116 - 0s - loss: 41.4841 - mae: 4.0409 - mse: 41.4841\n",
      "Epoch 73/100\n",
      "116/116 - 0s - loss: 41.5264 - mae: 4.0533 - mse: 41.5264\n",
      "Epoch 74/100\n",
      "116/116 - 0s - loss: 41.3568 - mae: 4.0336 - mse: 41.3568\n",
      "Epoch 75/100\n",
      "116/116 - 0s - loss: 41.3899 - mae: 4.0516 - mse: 41.3899\n",
      "Epoch 76/100\n",
      "116/116 - 0s - loss: 41.4994 - mae: 4.0448 - mse: 41.4994\n",
      "Epoch 77/100\n",
      "116/116 - 0s - loss: 41.3258 - mae: 4.0271 - mse: 41.3258\n",
      "Epoch 78/100\n",
      "116/116 - 0s - loss: 41.2565 - mae: 4.0210 - mse: 41.2565\n",
      "Epoch 79/100\n",
      "116/116 - 0s - loss: 41.2874 - mae: 4.0409 - mse: 41.2874\n",
      "Epoch 80/100\n",
      "116/116 - 0s - loss: 41.3340 - mae: 4.0275 - mse: 41.3340\n",
      "Epoch 81/100\n",
      "116/116 - 0s - loss: 41.3797 - mae: 4.0432 - mse: 41.3797\n",
      "Epoch 82/100\n",
      "116/116 - 0s - loss: 41.2152 - mae: 4.0291 - mse: 41.2152\n",
      "Epoch 83/100\n",
      "116/116 - 0s - loss: 41.5380 - mae: 4.0377 - mse: 41.5380\n",
      "Epoch 84/100\n",
      "116/116 - 0s - loss: 41.3656 - mae: 4.0451 - mse: 41.3656\n",
      "Epoch 85/100\n",
      "116/116 - 0s - loss: 41.4950 - mae: 4.0511 - mse: 41.4950\n",
      "Epoch 86/100\n",
      "116/116 - 0s - loss: 41.2891 - mae: 4.0342 - mse: 41.2891\n",
      "Epoch 87/100\n",
      "116/116 - 0s - loss: 41.2477 - mae: 4.0326 - mse: 41.2477\n",
      "Epoch 88/100\n",
      "116/116 - 0s - loss: 41.3066 - mae: 4.0438 - mse: 41.3066\n",
      "Epoch 89/100\n",
      "116/116 - 0s - loss: 41.2096 - mae: 4.0327 - mse: 41.2096\n",
      "Epoch 90/100\n",
      "116/116 - 0s - loss: 41.4934 - mae: 4.0435 - mse: 41.4934\n",
      "Epoch 91/100\n",
      "116/116 - 0s - loss: 41.5894 - mae: 4.0491 - mse: 41.5894\n",
      "Epoch 92/100\n",
      "116/116 - 0s - loss: 41.3582 - mae: 4.0451 - mse: 41.3582\n",
      "Epoch 93/100\n",
      "116/116 - 0s - loss: 41.3260 - mae: 4.0484 - mse: 41.3260\n",
      "Epoch 94/100\n",
      "116/116 - 0s - loss: 41.3184 - mae: 4.0429 - mse: 41.3184\n",
      "Epoch 95/100\n",
      "116/116 - 0s - loss: 41.3258 - mae: 4.0518 - mse: 41.3258\n",
      "Epoch 96/100\n",
      "116/116 - 0s - loss: 41.4148 - mae: 4.0479 - mse: 41.4148\n",
      "Epoch 97/100\n",
      "116/116 - 0s - loss: 41.1540 - mae: 4.0471 - mse: 41.1540\n",
      "Epoch 98/100\n",
      "116/116 - 0s - loss: 41.3485 - mae: 4.0302 - mse: 41.3485\n",
      "Epoch 99/100\n",
      "116/116 - 0s - loss: 41.5178 - mae: 4.0495 - mse: 41.5178\n",
      "Epoch 100/100\n",
      "116/116 - 0s - loss: 41.4034 - mae: 4.0453 - mse: 41.4034\n"
     ]
    },
    {
     "data": {
      "text/plain": [
       "<tensorflow.python.keras.callbacks.History at 0x148bb9510>"
      ]
     },
     "execution_count": 53,
     "metadata": {},
     "output_type": "execute_result"
    }
   ],
   "source": [
    "model.fit(train_inputs,\n",
    "         train_targets,\n",
    "         batch_size = batch_size,\n",
    "         epochs = max_epochs,\n",
    "         verbose = 2)"
   ]
  },
  {
   "cell_type": "markdown",
   "metadata": {},
   "source": [
    "In the final iteration, we see a mean absolute error of 4.0453 and a mean squared error of 41.4034."
   ]
  },
  {
   "cell_type": "markdown",
   "metadata": {},
   "source": [
    "## Test the model"
   ]
  },
  {
   "cell_type": "markdown",
   "metadata": {},
   "source": [
    "First get the model predictions on the test data set."
   ]
  },
  {
   "cell_type": "code",
   "execution_count": 49,
   "metadata": {},
   "outputs": [
    {
     "data": {
      "text/html": [
       "<div>\n",
       "<style scoped>\n",
       "    .dataframe tbody tr th:only-of-type {\n",
       "        vertical-align: middle;\n",
       "    }\n",
       "\n",
       "    .dataframe tbody tr th {\n",
       "        vertical-align: top;\n",
       "    }\n",
       "\n",
       "    .dataframe thead th {\n",
       "        text-align: right;\n",
       "    }\n",
       "</style>\n",
       "<table border=\"1\" class=\"dataframe\">\n",
       "  <thead>\n",
       "    <tr style=\"text-align: right;\">\n",
       "      <th></th>\n",
       "      <th>Pred</th>\n",
       "    </tr>\n",
       "  </thead>\n",
       "  <tbody>\n",
       "    <tr>\n",
       "      <th>0</th>\n",
       "      <td>3.933353</td>\n",
       "    </tr>\n",
       "    <tr>\n",
       "      <th>1</th>\n",
       "      <td>5.350162</td>\n",
       "    </tr>\n",
       "    <tr>\n",
       "      <th>2</th>\n",
       "      <td>3.171444</td>\n",
       "    </tr>\n",
       "    <tr>\n",
       "      <th>3</th>\n",
       "      <td>4.393558</td>\n",
       "    </tr>\n",
       "    <tr>\n",
       "      <th>4</th>\n",
       "      <td>3.684061</td>\n",
       "    </tr>\n",
       "  </tbody>\n",
       "</table>\n",
       "</div>"
      ],
      "text/plain": [
       "       Pred\n",
       "0  3.933353\n",
       "1  5.350162\n",
       "2  3.171444\n",
       "3  4.393558\n",
       "4  3.684061"
      ]
     },
     "execution_count": 49,
     "metadata": {},
     "output_type": "execute_result"
    }
   ],
   "source": [
    "pred_YAC = model.predict(test_inputs)\n",
    "pred_YAC = pd.DataFrame(pred_YAC, columns = ['Pred'])\n",
    "pred_YAC.head()"
   ]
  },
  {
   "cell_type": "code",
   "execution_count": 50,
   "metadata": {},
   "outputs": [],
   "source": [
    "# Convert the predictions from a data frame into a string\n",
    "\n",
    "predictions = pred_YAC['Pred']"
   ]
  },
  {
   "cell_type": "markdown",
   "metadata": {},
   "source": [
    "Now get the actual values of YAC observed in the data set."
   ]
  },
  {
   "cell_type": "code",
   "execution_count": 55,
   "metadata": {},
   "outputs": [],
   "source": [
    "test_YAC = pd.DataFrame(test_targets, columns = ['Obs_YAC'])\n",
    "actual = test_YAC['Obs_YAC']"
   ]
  },
  {
   "cell_type": "markdown",
   "metadata": {},
   "source": [
    "Calulate the residual between observed and predicted"
   ]
  },
  {
   "cell_type": "code",
   "execution_count": 52,
   "metadata": {},
   "outputs": [],
   "source": [
    "resid = actual - predictions"
   ]
  },
  {
   "cell_type": "markdown",
   "metadata": {},
   "source": [
    "Plot the residuals"
   ]
  },
  {
   "cell_type": "code",
   "execution_count": 59,
   "metadata": {},
   "outputs": [
    {
     "data": {
      "text/plain": [
       "Text(0.5, 1.0, 'Histogram of Residuals')"
      ]
     },
     "execution_count": 59,
     "metadata": {},
     "output_type": "execute_result"
    },
    {
     "data": {
      "image/png": "[encoded data removed]",
      "text/plain": [
       "<Figure size 432x288 with 1 Axes>"
      ]
     },
     "metadata": {
      "needs_background": "light"
     },
     "output_type": "display_data"
    }
   ],
   "source": [
    "plt.hist(resid)\n",
    "plt.title('Histogram of Residuals', size = 20)"
   ]
  },
  {
   "cell_type": "markdown",
   "metadata": {},
   "source": [
    "Calculate the mean absolute error on the test data"
   ]
  },
  {
   "cell_type": "code",
   "execution_count": 61,
   "metadata": {},
   "outputs": [
    {
     "data": {
      "text/plain": [
       "4.158478421594513"
      ]
     },
     "execution_count": 61,
     "metadata": {},
     "output_type": "execute_result"
    }
   ],
   "source": [
    "mae = resid.abs().mean()\n",
    "mae"
   ]
  },
  {
   "cell_type": "markdown",
   "metadata": {},
   "source": [
    "Calculate the mean squared error on the test data"
   ]
  },
  {
   "cell_type": "code",
   "execution_count": 62,
   "metadata": {},
   "outputs": [
    {
     "data": {
      "text/plain": [
       "44.9336538832123"
      ]
     },
     "execution_count": 62,
     "metadata": {},
     "output_type": "execute_result"
    }
   ],
   "source": [
    "sq_resid = resid ** 2\n",
    "mse = sq_resid.mean()\n",
    "mse"
   ]
  },
  {
   "cell_type": "markdown",
   "metadata": {},
   "source": [
    "The results on the test data seem competitive with (though slightly worse than) the results in the final iteration of the training data."
   ]
  },
  {
   "cell_type": "markdown",
   "metadata": {},
   "source": [
    "## Linear Regression"
   ]
  },
  {
   "cell_type": "markdown",
   "metadata": {},
   "source": [
    "As I said at the start, the exercise of writing the neural network was to work on improving my `python` skills (as I mainly work in `R` and have done so for the last 8 years). Thus, I didn't believe that a neural network was the best tool for this analysis (though it is the most fancy). As such, I'll now build a linear regression model and see what type of results I can get.\n",
    "\n",
    "I'll buld the regression model in both the `sklearn` and `statsmodels` packages. I do this because, while the former seems to be the most preferred approach for `python` coders, it frustrates me because I have a hard time getting the output about the model that I would like (though this may be more on me given my lack of understanding of a lot of `python`). Conversely, the latter provides a nice model output so that you can understand what went on under the hood."
   ]
  },
  {
   "cell_type": "markdown",
   "metadata": {},
   "source": [
    "### Regression in sklearn"
   ]
  },
  {
   "cell_type": "code",
   "execution_count": 64,
   "metadata": {},
   "outputs": [],
   "source": [
    "from sklearn import linear_model as lm"
   ]
  },
  {
   "cell_type": "markdown",
   "metadata": {},
   "source": [
    "Recall that we have already created our train and test splits above, so I will simply use those."
   ]
  },
  {
   "cell_type": "code",
   "execution_count": 118,
   "metadata": {},
   "outputs": [],
   "source": [
    "# First create a linear regression instance\n",
    "lm.model = lm.LinearRegression()\n",
    "\n",
    "# Now create the linear model\n",
    "fit_sklearn = lm.model.fit(X_train, y_train)"
   ]
  },
  {
   "cell_type": "markdown",
   "metadata": {},
   "source": [
    "Print the model coefficients"
   ]
  },
  {
   "cell_type": "code",
   "execution_count": 119,
   "metadata": {},
   "outputs": [
    {
     "data": {
      "text/plain": [
       "(5.1565691970456955,\n",
       " array([ 0.00000000e+00,  7.98104832e-01,  1.02404253e-01,  3.77836187e-01,\n",
       "        -2.34585021e-01, -9.50577574e-01,  3.46594785e-02, -1.31089643e-01,\n",
       "        -2.92473726e+12, -3.06674584e+12, -1.10461171e+12, -3.98163106e+12]))"
      ]
     },
     "execution_count": 119,
     "metadata": {},
     "output_type": "execute_result"
    }
   ],
   "source": [
    "fit_sklearn.intercept_, fit_sklearn.coef_"
   ]
  },
  {
   "cell_type": "markdown",
   "metadata": {},
   "source": [
    "This is useless as there are no varibale names. Let's just look at the coefficients with their column names."
   ]
  },
  {
   "cell_type": "code",
   "execution_count": 79,
   "metadata": {},
   "outputs": [
    {
     "data": {
      "text/html": [
       "<div>\n",
       "<style scoped>\n",
       "    .dataframe tbody tr th:only-of-type {\n",
       "        vertical-align: middle;\n",
       "    }\n",
       "\n",
       "    .dataframe tbody tr th {\n",
       "        vertical-align: top;\n",
       "    }\n",
       "\n",
       "    .dataframe thead th {\n",
       "        text-align: right;\n",
       "    }\n",
       "</style>\n",
       "<table border=\"1\" class=\"dataframe\">\n",
       "  <thead>\n",
       "    <tr style=\"text-align: right;\">\n",
       "      <th></th>\n",
       "      <th>0</th>\n",
       "    </tr>\n",
       "  </thead>\n",
       "  <tbody>\n",
       "    <tr>\n",
       "      <th>yardline_100</th>\n",
       "      <td>7.978854e-01</td>\n",
       "    </tr>\n",
       "    <tr>\n",
       "      <th>down</th>\n",
       "      <td>1.014954e-01</td>\n",
       "    </tr>\n",
       "    <tr>\n",
       "      <th>ydstogo</th>\n",
       "      <td>3.761414e-01</td>\n",
       "    </tr>\n",
       "    <tr>\n",
       "      <th>shotgun</th>\n",
       "      <td>-2.364584e-01</td>\n",
       "    </tr>\n",
       "    <tr>\n",
       "      <th>air_yards</th>\n",
       "      <td>-9.484371e-01</td>\n",
       "    </tr>\n",
       "    <tr>\n",
       "      <th>qb_hit</th>\n",
       "      <td>3.368871e-02</td>\n",
       "    </tr>\n",
       "    <tr>\n",
       "      <th>pass_location</th>\n",
       "      <td>-1.298373e-01</td>\n",
       "    </tr>\n",
       "    <tr>\n",
       "      <th>roof_closed</th>\n",
       "      <td>8.850522e+12</td>\n",
       "    </tr>\n",
       "    <tr>\n",
       "      <th>roof_dome</th>\n",
       "      <td>9.280253e+12</td>\n",
       "    </tr>\n",
       "    <tr>\n",
       "      <th>roof_open</th>\n",
       "      <td>3.342656e+12</td>\n",
       "    </tr>\n",
       "    <tr>\n",
       "      <th>roof_outdoors</th>\n",
       "      <td>1.204878e+13</td>\n",
       "    </tr>\n",
       "  </tbody>\n",
       "</table>\n",
       "</div>"
      ],
      "text/plain": [
       "                          0\n",
       "yardline_100   7.978854e-01\n",
       "down           1.014954e-01\n",
       "ydstogo        3.761414e-01\n",
       "shotgun       -2.364584e-01\n",
       "air_yards     -9.484371e-01\n",
       "qb_hit         3.368871e-02\n",
       "pass_location -1.298373e-01\n",
       "roof_closed    8.850522e+12\n",
       "roof_dome      9.280253e+12\n",
       "roof_open      3.342656e+12\n",
       "roof_outdoors  1.204878e+13"
      ]
     },
     "execution_count": 79,
     "metadata": {},
     "output_type": "execute_result"
    }
   ],
   "source": [
    "value = fit_sklearn.coef_\n",
    "coef = ['yardline_100', 'down', 'ydstogo', 'shotgun', 'air_yards', 'qb_hit', 'pass_location', 'roof_closed', 'roof_dome', 'roof_open', 'roof_outdoors']\n",
    "pd.DataFrame(value, coef)"
   ]
  },
  {
   "cell_type": "markdown",
   "metadata": {},
   "source": [
    "Make Predictions on the test set"
   ]
  },
  {
   "cell_type": "code",
   "execution_count": 81,
   "metadata": {},
   "outputs": [],
   "source": [
    "preds = fit_sklearn.predict(X_test)"
   ]
  },
  {
   "cell_type": "markdown",
   "metadata": {},
   "source": [
    "Calculate the residual"
   ]
  },
  {
   "cell_type": "code",
   "execution_count": 83,
   "metadata": {},
   "outputs": [],
   "source": [
    "resid = y_test - preds"
   ]
  },
  {
   "cell_type": "markdown",
   "metadata": {},
   "source": [
    "Plot the residuals"
   ]
  },
  {
   "cell_type": "code",
   "execution_count": 84,
   "metadata": {},
   "outputs": [
    {
     "data": {
      "text/plain": [
       "Text(0.5, 1.0, 'Histogram of Residuals')"
      ]
     },
     "execution_count": 84,
     "metadata": {},
     "output_type": "execute_result"
    },
    {
     "data": {
      "image/png": "[encoded data removed]",
      "text/plain": [
       "<Figure size 432x288 with 1 Axes>"
      ]
     },
     "metadata": {
      "needs_background": "light"
     },
     "output_type": "display_data"
    }
   ],
   "source": [
    "plt.hist(resid)\n",
    "plt.title(\"Histogram of Residuals\", size = 20)"
   ]
  },
  {
   "cell_type": "markdown",
   "metadata": {},
   "source": [
    "Calculate the mean absolute error"
   ]
  },
  {
   "cell_type": "code",
   "execution_count": 85,
   "metadata": {},
   "outputs": [
    {
     "data": {
      "text/plain": [
       "4.542613084974376"
      ]
     },
     "execution_count": 85,
     "metadata": {},
     "output_type": "execute_result"
    }
   ],
   "source": [
    "mae = resid.abs().mean()\n",
    "mae"
   ]
  },
  {
   "cell_type": "markdown",
   "metadata": {},
   "source": [
    "Calculate the mean squared error"
   ]
  },
  {
   "cell_type": "code",
   "execution_count": 86,
   "metadata": {},
   "outputs": [
    {
     "data": {
      "text/plain": [
       "49.097402620785836"
      ]
     },
     "execution_count": 86,
     "metadata": {},
     "output_type": "execute_result"
    }
   ],
   "source": [
    "sq_resid = resid ** 2\n",
    "mse = sq_resid.mean()\n",
    "mse"
   ]
  },
  {
   "cell_type": "markdown",
   "metadata": {},
   "source": [
    "We see that the regression performed slightly worse than the neural network did. The absolute error for the neural network on the test set was 4.2 while the absolute error for the linear regression was 4.5. Not a massive difference for a much simpoler and easier to interpret model! But as they say....*\"It's a game of inches!\"*"
   ]
  },
  {
   "cell_type": "markdown",
   "metadata": {},
   "source": [
    "### Regression in statsmodels"
   ]
  },
  {
   "cell_type": "markdown",
   "metadata": {},
   "source": [
    "Now I'll build the same regression model on the training set in the `statsmodels1` package. As you will see, the output of the regression model is much easier to look at than the array of coefficients that `sklearn` kicks out."
   ]
  },
  {
   "cell_type": "code",
   "execution_count": 89,
   "metadata": {},
   "outputs": [],
   "source": [
    "import statsmodels.api as smf"
   ]
  },
  {
   "cell_type": "markdown",
   "metadata": {},
   "source": [
    "Before building the model we need to add a `constant` term to the `X_train` data set. This will ensure that `statsmodels` includes an intercept in our model as it doesn't automatically add one."
   ]
  },
  {
   "cell_type": "code",
   "execution_count": 113,
   "metadata": {},
   "outputs": [],
   "source": [
    "X_train = smf.add_constant(X_train)"
   ]
  },
  {
   "cell_type": "markdown",
   "metadata": {},
   "source": [
    "Build the regression model."
   ]
  },
  {
   "cell_type": "code",
   "execution_count": 115,
   "metadata": {},
   "outputs": [],
   "source": [
    "fit_statsmodels = smf.OLS(y_train, X_train).fit()"
   ]
  },
  {
   "cell_type": "markdown",
   "metadata": {},
   "source": [
    "Get the nice looking summary of the model."
   ]
  },
  {
   "cell_type": "code",
   "execution_count": 116,
   "metadata": {},
   "outputs": [
    {
     "data": {
      "text/html": [
       "<table class=\"simpletable\">\n",
       "<caption>OLS Regression Results</caption>\n",
       "<tr>\n",
       "  <th>Dep. Variable:</th>    <td>yards_after_catch</td> <th>  R-squared:         </th> <td>   0.036</td> \n",
       "</tr>\n",
       "<tr>\n",
       "  <th>Model:</th>                   <td>OLS</td>        <th>  Adj. R-squared:    </th> <td>   0.035</td> \n",
       "</tr>\n",
       "<tr>\n",
       "  <th>Method:</th>             <td>Least Squares</td>   <th>  F-statistic:       </th> <td>   42.81</td> \n",
       "</tr>\n",
       "<tr>\n",
       "  <th>Date:</th>             <td>Thu, 27 Aug 2020</td>  <th>  Prob (F-statistic):</th> <td>4.03e-84</td> \n",
       "</tr>\n",
       "<tr>\n",
       "  <th>Time:</th>                 <td>17:36:32</td>      <th>  Log-Likelihood:    </th> <td> -38720.</td> \n",
       "</tr>\n",
       "<tr>\n",
       "  <th>No. Observations:</th>      <td> 11561</td>       <th>  AIC:               </th> <td>7.746e+04</td>\n",
       "</tr>\n",
       "<tr>\n",
       "  <th>Df Residuals:</th>          <td> 11550</td>       <th>  BIC:               </th> <td>7.754e+04</td>\n",
       "</tr>\n",
       "<tr>\n",
       "  <th>Df Model:</th>              <td>    10</td>       <th>                     </th>     <td> </td>    \n",
       "</tr>\n",
       "<tr>\n",
       "  <th>Covariance Type:</th>      <td>nonrobust</td>     <th>                     </th>     <td> </td>    \n",
       "</tr>\n",
       "</table>\n",
       "<table class=\"simpletable\">\n",
       "<tr>\n",
       "    <td></td>       <th>coef</th>     <th>std err</th>      <th>t</th>      <th>P>|t|</th>  <th>[0.025</th>    <th>0.975]</th>  \n",
       "</tr>\n",
       "<tr>\n",
       "  <th>const</th> <td>    5.1635</td> <td>    0.064</td> <td>   80.514</td> <td> 0.000</td> <td>    5.038</td> <td>    5.289</td>\n",
       "</tr>\n",
       "<tr>\n",
       "  <th>x1</th>    <td>    0.7979</td> <td>    0.065</td> <td>   12.226</td> <td> 0.000</td> <td>    0.670</td> <td>    0.926</td>\n",
       "</tr>\n",
       "<tr>\n",
       "  <th>x2</th>    <td>    0.1015</td> <td>    0.069</td> <td>    1.463</td> <td> 0.144</td> <td>   -0.035</td> <td>    0.238</td>\n",
       "</tr>\n",
       "<tr>\n",
       "  <th>x3</th>    <td>    0.3769</td> <td>    0.068</td> <td>    5.527</td> <td> 0.000</td> <td>    0.243</td> <td>    0.511</td>\n",
       "</tr>\n",
       "<tr>\n",
       "  <th>x4</th>    <td>   -0.2357</td> <td>    0.067</td> <td>   -3.505</td> <td> 0.000</td> <td>   -0.368</td> <td>   -0.104</td>\n",
       "</tr>\n",
       "<tr>\n",
       "  <th>x5</th>    <td>   -0.9492</td> <td>    0.065</td> <td>  -14.616</td> <td> 0.000</td> <td>   -1.076</td> <td>   -0.822</td>\n",
       "</tr>\n",
       "<tr>\n",
       "  <th>x6</th>    <td>    0.0353</td> <td>    0.065</td> <td>    0.547</td> <td> 0.584</td> <td>   -0.091</td> <td>    0.162</td>\n",
       "</tr>\n",
       "<tr>\n",
       "  <th>x7</th>    <td>   -0.1303</td> <td>    0.065</td> <td>   -2.011</td> <td> 0.044</td> <td>   -0.257</td> <td>   -0.003</td>\n",
       "</tr>\n",
       "<tr>\n",
       "  <th>x8</th>    <td>    0.0575</td> <td>    0.049</td> <td>    1.162</td> <td> 0.245</td> <td>   -0.039</td> <td>    0.155</td>\n",
       "</tr>\n",
       "<tr>\n",
       "  <th>x9</th>    <td>   -0.0139</td> <td>    0.048</td> <td>   -0.290</td> <td> 0.772</td> <td>   -0.108</td> <td>    0.080</td>\n",
       "</tr>\n",
       "<tr>\n",
       "  <th>x10</th>   <td>   -0.0528</td> <td>    0.062</td> <td>   -0.851</td> <td> 0.395</td> <td>   -0.174</td> <td>    0.069</td>\n",
       "</tr>\n",
       "<tr>\n",
       "  <th>x11</th>   <td>   -0.0169</td> <td>    0.035</td> <td>   -0.482</td> <td> 0.629</td> <td>   -0.086</td> <td>    0.052</td>\n",
       "</tr>\n",
       "</table>\n",
       "<table class=\"simpletable\">\n",
       "<tr>\n",
       "  <th>Omnibus:</th>       <td>8846.156</td> <th>  Durbin-Watson:     </th>  <td>   2.017</td> \n",
       "</tr>\n",
       "<tr>\n",
       "  <th>Prob(Omnibus):</th>  <td> 0.000</td>  <th>  Jarque-Bera (JB):  </th> <td>233664.633</td>\n",
       "</tr>\n",
       "<tr>\n",
       "  <th>Skew:</th>           <td> 3.471</td>  <th>  Prob(JB):          </th>  <td>    0.00</td> \n",
       "</tr>\n",
       "<tr>\n",
       "  <th>Kurtosis:</th>       <td>23.902</td>  <th>  Cond. No.          </th>  <td>3.13e+15</td> \n",
       "</tr>\n",
       "</table><br/><br/>Notes:<br/>[1] Standard Errors assume that the covariance matrix of the errors is correctly specified.<br/>[2] The smallest eigenvalue is 2.17e-27. This might indicate that there are<br/>strong multicollinearity problems or that the design matrix is singular."
      ],
      "text/plain": [
       "<class 'statsmodels.iolib.summary.Summary'>\n",
       "\"\"\"\n",
       "                            OLS Regression Results                            \n",
       "==============================================================================\n",
       "Dep. Variable:      yards_after_catch   R-squared:                       0.036\n",
       "Model:                            OLS   Adj. R-squared:                  0.035\n",
       "Method:                 Least Squares   F-statistic:                     42.81\n",
       "Date:                Thu, 27 Aug 2020   Prob (F-statistic):           4.03e-84\n",
       "Time:                        17:36:32   Log-Likelihood:                -38720.\n",
       "No. Observations:               11561   AIC:                         7.746e+04\n",
       "Df Residuals:                   11550   BIC:                         7.754e+04\n",
       "Df Model:                          10                                         \n",
       "Covariance Type:            nonrobust                                         \n",
       "==============================================================================\n",
       "                 coef    std err          t      P>|t|      [0.025      0.975]\n",
       "------------------------------------------------------------------------------\n",
       "const          5.1635      0.064     80.514      0.000       5.038       5.289\n",
       "x1             0.7979      0.065     12.226      0.000       0.670       0.926\n",
       "x2             0.1015      0.069      1.463      0.144      -0.035       0.238\n",
       "x3             0.3769      0.068      5.527      0.000       0.243       0.511\n",
       "x4            -0.2357      0.067     -3.505      0.000      -0.368      -0.104\n",
       "x5            -0.9492      0.065    -14.616      0.000      -1.076      -0.822\n",
       "x6             0.0353      0.065      0.547      0.584      -0.091       0.162\n",
       "x7            -0.1303      0.065     -2.011      0.044      -0.257      -0.003\n",
       "x8             0.0575      0.049      1.162      0.245      -0.039       0.155\n",
       "x9            -0.0139      0.048     -0.290      0.772      -0.108       0.080\n",
       "x10           -0.0528      0.062     -0.851      0.395      -0.174       0.069\n",
       "x11           -0.0169      0.035     -0.482      0.629      -0.086       0.052\n",
       "==============================================================================\n",
       "Omnibus:                     8846.156   Durbin-Watson:                   2.017\n",
       "Prob(Omnibus):                  0.000   Jarque-Bera (JB):           233664.633\n",
       "Skew:                           3.471   Prob(JB):                         0.00\n",
       "Kurtosis:                      23.902   Cond. No.                     3.13e+15\n",
       "==============================================================================\n",
       "\n",
       "Notes:\n",
       "[1] Standard Errors assume that the covariance matrix of the errors is correctly specified.\n",
       "[2] The smallest eigenvalue is 2.17e-27. This might indicate that there are\n",
       "strong multicollinearity problems or that the design matrix is singular.\n",
       "\"\"\""
      ]
     },
     "execution_count": 116,
     "metadata": {},
     "output_type": "execute_result"
    }
   ],
   "source": [
    "fit_statsmodels.summary()"
   ]
  },
  {
   "cell_type": "markdown",
   "metadata": {},
   "source": [
    "Make Prededictions on the test set"
   ]
  },
  {
   "cell_type": "code",
   "execution_count": 122,
   "metadata": {},
   "outputs": [],
   "source": [
    "## set an intercept/constant\n",
    "X_test = smf.add_constant(X_test)\n",
    "\n",
    "## make predictions\n",
    "preds = fit_statsmodels.predict(X_test)"
   ]
  },
  {
   "cell_type": "markdown",
   "metadata": {},
   "source": [
    "Calculate the residual"
   ]
  },
  {
   "cell_type": "code",
   "execution_count": 123,
   "metadata": {},
   "outputs": [],
   "source": [
    "resid = y_test - preds"
   ]
  },
  {
   "cell_type": "markdown",
   "metadata": {},
   "source": [
    "Plot the residuals"
   ]
  },
  {
   "cell_type": "code",
   "execution_count": 124,
   "metadata": {},
   "outputs": [
    {
     "data": {
      "text/plain": [
       "Text(0.5, 1.0, 'Histogram of Residuals')"
      ]
     },
     "execution_count": 124,
     "metadata": {},
     "output_type": "execute_result"
    },
    {
     "data": {
      "image/png": "[encoded data removed]",
      "text/plain": [
       "<Figure size 432x288 with 1 Axes>"
      ]
     },
     "metadata": {
      "needs_background": "light"
     },
     "output_type": "display_data"
    }
   ],
   "source": [
    "plt.hist(resid)\n",
    "plt.title(\"Histogram of Residuals\", size = 20)"
   ]
  },
  {
   "cell_type": "markdown",
   "metadata": {},
   "source": [
    "Calculate mean absolute error"
   ]
  },
  {
   "cell_type": "code",
   "execution_count": 125,
   "metadata": {},
   "outputs": [
    {
     "data": {
      "text/plain": [
       "4.5361872627598965"
      ]
     },
     "execution_count": 125,
     "metadata": {},
     "output_type": "execute_result"
    }
   ],
   "source": [
    "mae = resid.abs().mean()\n",
    "mae"
   ]
  },
  {
   "cell_type": "markdown",
   "metadata": {},
   "source": [
    "Calculate mean squared error"
   ]
  },
  {
   "cell_type": "code",
   "execution_count": 126,
   "metadata": {},
   "outputs": [
    {
     "data": {
      "text/plain": [
       "49.098360483784845"
      ]
     },
     "execution_count": 126,
     "metadata": {},
     "output_type": "execute_result"
    }
   ],
   "source": [
    "sq_resid = resid ** 2\n",
    "mse = sq_resid.mean()\n",
    "mse"
   ]
  },
  {
   "cell_type": "code",
   "execution_count": null,
   "metadata": {},
   "outputs": [],
   "source": []
  }
 ],
 "metadata": {
  "kernelspec": {
   "display_name": "Python [conda env:py3-TF2.0]",
   "language": "python",
   "name": "conda-env-py3-TF2.0-py"
  },
  "language_info": {
   "codemirror_mode": {
    "name": "ipython",
    "version": 3
   },
   "file_extension": ".py",
   "mimetype": "text/x-python",
   "name": "python",
   "nbconvert_exporter": "python",
   "pygments_lexer": "ipython3",
   "version": "3.7.7"
  }
 },
 "nbformat": 4,
 "nbformat_minor": 2
}
